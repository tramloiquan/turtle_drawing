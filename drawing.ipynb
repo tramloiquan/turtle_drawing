{
 "cells": [
  {
   "cell_type": "code",
   "execution_count": 1,
   "id": "2b632da9",
   "metadata": {},
   "outputs": [],
   "source": [
    "import numpy as np\n",
    "import turtle\n",
    "from multiprocessing import Process"
   ]
  },
  {
   "cell_type": "markdown",
   "id": "c1e02cef",
   "metadata": {},
   "source": [
    "### Draw circles with dynamic central point"
   ]
  },
  {
   "cell_type": "code",
   "execution_count": null,
   "id": "17e86c2e",
   "metadata": {
    "scrolled": true
   },
   "outputs": [],
   "source": [
    "turtle.colormode(255)\n",
    "golden_rate = (1+np.sqrt(5))/2\n",
    "r0 = 100*golden_rate\n",
    "#\n",
    "t2=turtle.Turtle()\n",
    "t2.speed(0)\n",
    "t2.radians()\n",
    "t2.up()\n",
    "t2.goto(2*r0, 0)\n",
    "t2.down()\n",
    "list_color=[(255,0,0),(0,255,0),(0,0,255),(50,50,50)]\n",
    "c=0\n",
    "angle=0\n",
    "i=0\n",
    "while True:\n",
    "    if i%10==0:\n",
    "        t2.pencolor(list_color[c%4])\n",
    "        c+=1\n",
    "    #\n",
    "    x1 = r0*np.cos(angle)\n",
    "    y1 = r0*np.sin(angle)\n",
    "    #\n",
    "    x2 = x1+r0*np.cos(angle/golden_rate)\n",
    "    y2 = y1+r0*np.sin(angle/golden_rate)\n",
    "    t2.goto(x2,y2)\n",
    "    angle+=np.pi/20\n",
    "    i+=1"
   ]
  },
  {
   "cell_type": "code",
   "execution_count": null,
   "id": "9e7e108e",
   "metadata": {},
   "outputs": [],
   "source": []
  },
  {
   "cell_type": "markdown",
   "id": "e93a07b8",
   "metadata": {},
   "source": [
    "### Draw multiple circles with gaussian radius\n",
    "* This version is messy"
   ]
  },
  {
   "cell_type": "code",
   "execution_count": 2,
   "id": "e0b19929",
   "metadata": {},
   "outputs": [],
   "source": [
    "def draw_circle(t_list, r):\n",
    "    \"\"\"\n",
    "    t_list: list of turtle, and its information\n",
    "    each turtle draws a circle at a different central point defined by (start_x, start_y)\n",
    "    \"\"\"\n",
    "    mu = r/np.e\n",
    "    sigma = mu/np.e\n",
    "    for d01 in t_list:\n",
    "        d01[\"turtle\"].pencolor(*np.random.randint(0,255,3))\n",
    "        d01[\"turtle\"].up()\n",
    "        d01[\"turtle\"].goto(d01[\"start_x\"],d01[\"start_y\"])\n",
    "        d01[\"turtle\"].down()\n",
    "    #\n",
    "    for angle in np.arange(0,2*np.pi+0.1*np.pi/3,0.1*np.pi/6):\n",
    "        for d01 in t_list:\n",
    "            if angle in [0,2*np.pi/3,4*np.pi/3,2*np.pi]:\n",
    "                d01[\"turtle\"].goto(d01[\"start_x\"],d01[\"start_y\"])\n",
    "            #\n",
    "            r = np.random.normal(mu,sigma)\n",
    "            r = max(r,mu)\n",
    "            x = r*np.cos(angle)\n",
    "            y = r*np.sin(angle)\n",
    "            d01[\"turtle\"].goto(x+d01[\"start_x\"],y+d01[\"start_y\"])\n",
    "#\n",
    "def _update_start(t_list, x_new, y_new):\n",
    "    for d01 in t_list:\n",
    "        if d01[\"id\"]==0:\n",
    "            d01[\"start_x\"]=x_new\n",
    "            d01[\"start_y\"]=y_new\n",
    "        elif d01[\"id\"]==1:\n",
    "            d01[\"start_x\"]=-x_new\n",
    "            d01[\"start_y\"]=y_new\n",
    "        elif d01[\"id\"]==2:\n",
    "            d01[\"start_x\"]=-x_new\n",
    "            d01[\"start_y\"]=-y_new\n",
    "        elif d01[\"id\"]==3:\n",
    "            d01[\"start_x\"]=x_new\n",
    "            d01[\"start_y\"]=-y_new\n",
    "        else:\n",
    "            pass\n",
    "    return\n",
    "#\n",
    "def draw_multi(t_list):\n",
    "    golden_rate = (1+np.sqrt(5))/2\n",
    "    for angle in np.arange(0,np.pi/2+np.pi/20,np.pi/20):\n",
    "        r = np.random.choice([55,89,144,233,377])\n",
    "        x_new = r*golden_rate*np.cos(angle)\n",
    "        y_new = r*golden_rate*np.sin(angle)\n",
    "        _update_start(t_list,x_new,y_new)\n",
    "        raw_circle(t_list, r*golden_rate)\n",
    "#\n",
    "turtle.colormode(255)\n",
    "t_list=[]\n",
    "for i in range(4):\n",
    "    t1=turtle.Turtle()\n",
    "    t1.speed(0)\n",
    "    t1_dict={\"turtle\":t1,\"id\":i,\"start_x\":0,\"start_y\":0}\n",
    "    t_list.append(t1_dict)\n",
    "#\n",
    "draw_multi(t_list)"
   ]
  },
  {
   "cell_type": "code",
   "execution_count": 3,
   "id": "2a792854",
   "metadata": {},
   "outputs": [],
   "source": []
  },
  {
   "cell_type": "code",
   "execution_count": null,
   "id": "1cddb88f",
   "metadata": {},
   "outputs": [],
   "source": []
  },
  {
   "cell_type": "code",
   "execution_count": null,
   "id": "b94d6304",
   "metadata": {},
   "outputs": [],
   "source": []
  },
  {
   "cell_type": "code",
   "execution_count": null,
   "id": "9d2de503",
   "metadata": {},
   "outputs": [],
   "source": []
  },
  {
   "cell_type": "code",
   "execution_count": null,
   "id": "372e1bd5",
   "metadata": {},
   "outputs": [],
   "source": []
  }
 ],
 "metadata": {
  "kernelspec": {
   "display_name": "Python 3 (ipykernel)",
   "language": "python",
   "name": "python3"
  },
  "language_info": {
   "codemirror_mode": {
    "name": "ipython",
    "version": 3
   },
   "file_extension": ".py",
   "mimetype": "text/x-python",
   "name": "python",
   "nbconvert_exporter": "python",
   "pygments_lexer": "ipython3",
   "version": "3.9.12"
  }
 },
 "nbformat": 4,
 "nbformat_minor": 5
}
